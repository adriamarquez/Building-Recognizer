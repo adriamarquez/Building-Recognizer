{
 "metadata": {
  "name": "",
  "signature": "sha256:800cec7e30779ad8a823433f74eb2c1a5e490628af2f882b5946b9160c76cd4a"
 },
 "nbformat": 3,
 "nbformat_minor": 0,
 "worksheets": [
  {
   "cells": [
    {
     "cell_type": "heading",
     "level": 1,
     "metadata": {},
     "source": [
      "Sessi\u00f3 6"
     ]
    },
    {
     "cell_type": "heading",
     "level": 2,
     "metadata": {},
     "source": [
      "Profunditzaci\u00f3 en el bloc del 'Classifier'"
     ]
    },
    {
     "cell_type": "heading",
     "level": 5,
     "metadata": {},
     "source": [
      "Durant aquest parell de setmanes a m\u00e9s del treball acumulat d'obtenir uns resultats de AP i MAP per la part del Ranking i modificar les funcions que se'ns demanava generar, hem hagut de terballar les dues funcions que conformen el bloc del classificador; una anomenada 'Train_Classify' i l'altre anomenada 'Classify', les quals teniem que aconseguir que funcionessin de manera no aleat\u00f2ria."
     ]
    },
    {
     "cell_type": "heading",
     "level": 2,
     "metadata": {},
     "source": [
      "Train Classify"
     ]
    },
    {
     "cell_type": "heading",
     "level": 5,
     "metadata": {},
     "source": [
      "En aquest primera part del bloc del classificador el noste objectiu era que partint del fitxer de caracter\u00edstiques d'entrenament obtingut en el bloc anterior 'Feature extraction' i el seu ground truth corresponent, mostrar a la sortida un fitxer en format 'pickle' amb els dienfiticadors de cada imatge y el seu vector de caracter\u00edstiques corresponents. El codi que hem elaborat en aquesta funci\u00f3 i la sortida que en ha aparescut \u00e9s la seg\u00fcent:"
     ]
    },
    {
     "cell_type": "code",
     "collapsed": false,
     "input": [
      "# -*- coding: utf-8 -*-\n",
      "from functions import *\n",
      "import pickle\n",
      "from sklearn import svm,grid_search\n",
      "\n",
      "def train_clasificador(annotations,path_bow_train):\n",
      "    file_train = open(path_bow_train,'r')\n",
      "    bow_train = pickle.load(file_train)\n",
      "    file_train.close()\n",
      "    annotations_file = open(annotations,'r')\n",
      "    next(annotations_file)\n",
      "    clases = []\n",
      "    for l in annotations_file:\n",
      "        line = l[l.index(\"\\t\")+1:l.index(\"\\n\")]\n",
      "        clases.append(line)\n",
      "    dsc = []\n",
      "    ids = []\n",
      "    for i in bow_train.keys():\n",
      "        dsc.append(bow_train[i])\n",
      "        ids.append(i)        \n",
      "    weight = {}\n",
      "    nclases = len(set(clases))\n",
      "    for k in clases:\n",
      "        if k not in weight:\n",
      "            ncl = clases.count(k)\n",
      "            weight[k] = float(len(dsc))/(nclases*ncl)\n",
      "    svr = svm.SVC()\n",
      "    params = {'kernel':('linear','rbf'),'C':[1,3,10,100,1000]}\n",
      "    a = grid_search.GridSearchCV(svr,params)\n",
      "    a.fit(dsc,clases)\n",
      "    bests_params = a.best_params_\n",
      "    print bests_params\n",
      "    clf = svm.SVC(C =1, kernel = 'linear', class_weight = weight)\n",
      "    clf.fit(dsc,clases)    \n",
      "    return clf.predict(dsc)\n",
      "\n",
      "if __name__ == \"__main__\":\n",
      "    r = train_clasificador(\"../TerrassaBuildings900/train/annotation.txt\",\"../files/bow_train.p\")\n",
      "    print str(list(r).count(\"desconegut\"))\n",
      "    print str(list(r).count(\"societat_general\"))\n",
      "    print str(list(r).count(\"farmacia_albinyana\"))\n",
      "    print str(list(r).count(\"castell_cartoixa\"))\n",
      "    print str(list(r).count(\"escola_enginyeria\"))\n",
      "    print str(list(r).count(\"mercat_independencia\"))\n",
      "    print str(list(r).count(\"teatre_principal\"))\n",
      "    print str(list(r).count(\"masia_freixa\"))\n",
      "    print str(list(r).count(\"mnactec\"))\n",
      "    print str(list(r).count(\"ajuntament\"))\n",
      "    print str(list(r).count(\"dona_treballadora\"))\n",
      "    print str(list(r).count(\"estacio_nord\"))\n",
      "    print str(list(r).count(\"catedral\"))"
     ],
     "language": "python",
     "metadata": {},
     "outputs": [
      {
       "ename": "ImportError",
       "evalue": "No module named functions",
       "output_type": "pyerr",
       "traceback": [
        "\u001b[1;31m---------------------------------------------------------------------------\u001b[0m\n\u001b[1;31mImportError\u001b[0m                               Traceback (most recent call last)",
        "\u001b[1;32m<ipython-input-1-3d58a122a528>\u001b[0m in \u001b[0;36m<module>\u001b[1;34m()\u001b[0m\n\u001b[0;32m      1\u001b[0m \u001b[1;33m\u001b[0m\u001b[0m\n\u001b[1;32m----> 2\u001b[1;33m \u001b[1;32mfrom\u001b[0m \u001b[0mfunctions\u001b[0m \u001b[1;32mimport\u001b[0m \u001b[1;33m*\u001b[0m\u001b[1;33m\u001b[0m\u001b[0m\n\u001b[0m\u001b[0;32m      3\u001b[0m \u001b[1;32mimport\u001b[0m \u001b[0mpickle\u001b[0m\u001b[1;33m\u001b[0m\u001b[0m\n\u001b[0;32m      4\u001b[0m \u001b[1;32mfrom\u001b[0m \u001b[0msklearn\u001b[0m \u001b[1;32mimport\u001b[0m \u001b[0msvm\u001b[0m\u001b[1;33m,\u001b[0m\u001b[0mgrid_search\u001b[0m\u001b[1;33m\u001b[0m\u001b[0m\n\u001b[0;32m      5\u001b[0m \u001b[1;33m\u001b[0m\u001b[0m\n",
        "\u001b[1;31mImportError\u001b[0m: No module named functions"
       ]
      }
     ],
     "prompt_number": 1
    },
    {
     "cell_type": "heading",
     "level": 2,
     "metadata": {},
     "source": [
      "Classify"
     ]
    },
    {
     "cell_type": "heading",
     "level": 5,
     "metadata": {},
     "source": [
      "Un cop hem aconseguit un model entrenat per aquest classificador, ara tant per les imatges d'entrenament com les de validaci\u00f3 necesitem els seus vectors de caracter\u00edstiques i els seus fitxers d'annotaci\u00f3 per poder rtrobar com a resultat final un fitxer format per l'dientificador de cada imatge (o d'entrenament o de validaci\u00f3) amb la seva clase escrita a continuaci\u00f3. La sortida que ens ha aparescut i el codi que hem elaborat s\u00f3n els seg\u00fcents: "
     ]
    },
    {
     "cell_type": "code",
     "collapsed": false,
     "input": [],
     "language": "python",
     "metadata": {},
     "outputs": []
    },
    {
     "cell_type": "heading",
     "level": 2,
     "metadata": {},
     "source": [
      "Classification_Evaluation"
     ]
    },
    {
     "cell_type": "heading",
     "level": 5,
     "metadata": {},
     "source": [
      "Ara \u00e9s quan avaluem els nostres clasificadors. El codi que vam elaborar fa dues sessions per poder dur a terme aquesta tasca \u00e9s el seg\u00fcent i pel que fa els resultats son de un valor m\u00e9s alt que quan vam fer-ho de forma aleat\u00f2ria per primer cop:"
     ]
    },
    {
     "cell_type": "code",
     "collapsed": false,
     "input": [
      "import evaluate_classification as EVAL\n",
      "\n",
      "CM,ACCU,PREC,REC,F1 = EVAL.evaluate_classification('../files','../TerrassaBuildings900/val/annotation.txt',\"val\")\n",
      "print \"Matrix Confussion = %s\" % (CM)\n",
      "print \"Accuracy = %s\" % (ACCU)\n",
      "print \"Precision = %s\" % (PREC)\n",
      "print \"Recall = %s\" % (REC)\n",
      "print \"F1-Score = %s\" % (F1)"
     ],
     "language": "python",
     "metadata": {},
     "outputs": [
      {
       "ename": "ImportError",
       "evalue": "No module named evaluate_classification",
       "output_type": "pyerr",
       "traceback": [
        "\u001b[1;31m---------------------------------------------------------------------------\u001b[0m\n\u001b[1;31mImportError\u001b[0m                               Traceback (most recent call last)",
        "\u001b[1;32m<ipython-input-3-202d8f81dedd>\u001b[0m in \u001b[0;36m<module>\u001b[1;34m()\u001b[0m\n\u001b[1;32m----> 1\u001b[1;33m \u001b[1;32mimport\u001b[0m \u001b[0mevaluate_classification\u001b[0m \u001b[1;32mas\u001b[0m \u001b[0mEVAL\u001b[0m\u001b[1;33m\u001b[0m\u001b[0m\n\u001b[0m\u001b[0;32m      2\u001b[0m \u001b[1;33m\u001b[0m\u001b[0m\n\u001b[0;32m      3\u001b[0m \u001b[0mCM\u001b[0m\u001b[1;33m,\u001b[0m\u001b[0mACCU\u001b[0m\u001b[1;33m,\u001b[0m\u001b[0mPREC\u001b[0m\u001b[1;33m,\u001b[0m\u001b[0mREC\u001b[0m\u001b[1;33m,\u001b[0m\u001b[0mF1\u001b[0m \u001b[1;33m=\u001b[0m \u001b[0mEVAL\u001b[0m\u001b[1;33m.\u001b[0m\u001b[0mevaluate_classification\u001b[0m\u001b[1;33m(\u001b[0m\u001b[1;34m'../files'\u001b[0m\u001b[1;33m,\u001b[0m\u001b[1;34m'../TerrassaBuildings900/val/annotation.txt'\u001b[0m\u001b[1;33m,\u001b[0m\u001b[1;34m\"val\"\u001b[0m\u001b[1;33m)\u001b[0m\u001b[1;33m\u001b[0m\u001b[0m\n\u001b[0;32m      4\u001b[0m \u001b[1;32mprint\u001b[0m \u001b[1;34m\"Matrix Confussion = %s\"\u001b[0m \u001b[1;33m%\u001b[0m \u001b[1;33m(\u001b[0m\u001b[0mCM\u001b[0m\u001b[1;33m)\u001b[0m\u001b[1;33m\u001b[0m\u001b[0m\n\u001b[0;32m      5\u001b[0m \u001b[1;32mprint\u001b[0m \u001b[1;34m\"Accuracy = %s\"\u001b[0m \u001b[1;33m%\u001b[0m \u001b[1;33m(\u001b[0m\u001b[0mACCU\u001b[0m\u001b[1;33m)\u001b[0m\u001b[1;33m\u001b[0m\u001b[0m\n",
        "\u001b[1;31mImportError\u001b[0m: No module named evaluate_classification"
       ]
      }
     ],
     "prompt_number": 3
    },
    {
     "cell_type": "heading",
     "level": 5,
     "metadata": {},
     "source": [
      "Es pot observar que els valors donats per cadascun dels 4 par\u00e0metres que retorna la funci\u00f3 son for\u00e7a m\u00e9s alts que per exemple els 0.02 del Accuracy, Precision, recall i F1 de l'anterior sessi\u00f3 on es va probar el avaluador."
     ]
    },
    {
     "cell_type": "heading",
     "level": 5,
     "metadata": {},
     "source": [
      "Ara procedirem a dur a terme una reprsentaci\u00f3 visual del nostre classificador millorat per a la imatge de validaci\u00f3 amb id: 16464-19979-4516. El nostre objectiu ser\u00e1 treure per pantalla les 5 imatges de train que m\u00e9s s'hi assemblen."
     ]
    },
    {
     "cell_type": "code",
     "collapsed": false,
     "input": [
      "import matplotlib.pyplot as plt\n",
      "\n",
      "mostra = open(\"../files/ranking_val/168-2743-15592.txt\",'r')\n",
      "print \"Imatge mostra:\"\n",
      "imagemostra = plt.imread(\"../TerrassaBuildings900/val/images/16464-19979-4516.jpg\")\n",
      "plt.figure(1),plt.imshow(imagemostra),plt.show()\n",
      "print \"\\n\"\n",
      "print \"Classificador de la mostra:\"\n",
      "top = 0\n",
      "\n",
      "for line in mostra:\n",
      "    if top<6:\n",
      "        final = line.index('\\n')\n",
      "        image_classify = plt.imread(\"../TerrassaBuildings900/train/images/\"+line[0:final]+\".jpg\")\n",
      "        plt.figure(top+1),plt.imshow(image_classify),plt.show()\n",
      "        top += 1"
     ],
     "language": "python",
     "metadata": {},
     "outputs": [
      {
       "ename": "IOError",
       "evalue": "[Errno 2] No such file or directory: '../files/ranking_val/168-2743-15592.txt'",
       "output_type": "pyerr",
       "traceback": [
        "\u001b[1;31m---------------------------------------------------------------------------\u001b[0m\n\u001b[1;31mIOError\u001b[0m                                   Traceback (most recent call last)",
        "\u001b[1;32m<ipython-input-4-2aa860985780>\u001b[0m in \u001b[0;36m<module>\u001b[1;34m()\u001b[0m\n\u001b[0;32m      1\u001b[0m \u001b[1;32mimport\u001b[0m \u001b[0mmatplotlib\u001b[0m\u001b[1;33m.\u001b[0m\u001b[0mpyplot\u001b[0m \u001b[1;32mas\u001b[0m \u001b[0mplt\u001b[0m\u001b[1;33m\u001b[0m\u001b[0m\n\u001b[0;32m      2\u001b[0m \u001b[1;33m\u001b[0m\u001b[0m\n\u001b[1;32m----> 3\u001b[1;33m \u001b[0mmostra\u001b[0m \u001b[1;33m=\u001b[0m \u001b[0mopen\u001b[0m\u001b[1;33m(\u001b[0m\u001b[1;34m\"../files/ranking_val/168-2743-15592.txt\"\u001b[0m\u001b[1;33m,\u001b[0m\u001b[1;34m'r'\u001b[0m\u001b[1;33m)\u001b[0m\u001b[1;33m\u001b[0m\u001b[0m\n\u001b[0m\u001b[0;32m      4\u001b[0m \u001b[1;32mprint\u001b[0m \u001b[1;34m\"Imatge mostra:\"\u001b[0m\u001b[1;33m\u001b[0m\u001b[0m\n\u001b[0;32m      5\u001b[0m \u001b[0mimagemostra\u001b[0m \u001b[1;33m=\u001b[0m \u001b[0mplt\u001b[0m\u001b[1;33m.\u001b[0m\u001b[0mimread\u001b[0m\u001b[1;33m(\u001b[0m\u001b[1;34m\"../TerrassaBuildings900/val/images/16464-19979-4516.jpg\"\u001b[0m\u001b[1;33m)\u001b[0m\u001b[1;33m\u001b[0m\u001b[0m\n",
        "\u001b[1;31mIOError\u001b[0m: [Errno 2] No such file or directory: '../files/ranking_val/168-2743-15592.txt'"
       ]
      }
     ],
     "prompt_number": 4
    },
    {
     "cell_type": "code",
     "collapsed": false,
     "input": [],
     "language": "python",
     "metadata": {},
     "outputs": []
    }
   ],
   "metadata": {}
  }
 ]
}