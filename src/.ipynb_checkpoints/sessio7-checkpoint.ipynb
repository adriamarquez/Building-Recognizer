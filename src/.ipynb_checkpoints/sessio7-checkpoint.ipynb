{
 "metadata": {
  "name": "",
  "signature": "sha256:59b2a9eacb5432e9cb7ec223653b88f63703aac4090091fc8b4c517ed908d730"
 },
 "nbformat": 3,
 "nbformat_minor": 0,
 "worksheets": []
}