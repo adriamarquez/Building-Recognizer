{
 "metadata": {
  "name": "",
  "signature": "sha256:66615a77a7b82c74b81076ec0e776a9e411ae7bc7333b10053dfafd0ec36a911"
 },
 "nbformat": 3,
 "nbformat_minor": 0,
 "worksheets": [
  {
   "cells": [
    {
     "cell_type": "heading",
     "level": 1,
     "metadata": {},
     "source": [
      "Sessi\u00f3 5"
     ]
    },
    {
     "cell_type": "heading",
     "level": 2,
     "metadata": {},
     "source": [
      "Profunditzaci\u00f3 en els blocs de 'Feature Extraction' i de 'Ranking'."
     ]
    },
    {
     "cell_type": "heading",
     "level": 5,
     "metadata": {},
     "source": [
      "Aquesta setmana hem programat aquestes dues parts de l'esquelet del nostre cercador i classificador d'imatges. El bloc de 'feature extraction' l'hem subidivit en 4 procediments: Get local features, train codebook, compute assignments i construct bow vector per tal d'obtenir un vector de les paraules o centroides d'una imatge normalitzades entre els valors de 0 i 1 anomenat Bag of Words (BoW)."
     ]
    },
    {
     "cell_type": "heading",
     "level": 5,
     "metadata": {},
     "source": [
      "Pel que fa al bloc de ranking nom\u00e8s calia modificarla en funci\u00f3 de la distancia euclidiana mitjan\u00e7ant el m\u00e8tode pdist del m\u00f2dul de scipy.spatial.disntance.dist per comprobar la desviaci\u00f3 que tenen els valors normalitzats respecte els valors de cada imatge consultada."
     ]
    },
    {
     "cell_type": "heading",
     "level": 2,
     "metadata": {},
     "source": [
      "Get local features"
     ]
    },
    {
     "cell_type": "heading",
     "level": 5,
     "metadata": {},
     "source": [
      "La finalitat de la funci\u00f3 get_local_features.py consisteix en extreure els punts d'inter\u00e8s d'una imatge consulta i els seus descriptors assignats. El codi que hem elaborat \u00e9s el seg\u00fcent:"
     ]
    },
    {
     "cell_type": "code",
     "collapsed": false,
     "input": [
      "import os\n",
      "from functions import *\n",
      "\n",
      "des = get_local_features('../imagen_primerscript/tiger.jpg') #Per demostrar els resultats de la nostra funci\u00f3 utilitzem la imatge que vam utilitzar per primer script.\n",
      "print des"
     ],
     "language": "python",
     "metadata": {},
     "outputs": [
      {
       "output_type": "stream",
       "stream": "stdout",
       "text": [
        "[[ 0.06292278  0.13386989  0.19599257 ...,  0.          0.21566555\n",
        "   0.21086273]\n",
        " [ 0.          0.11806214  0.17385826 ...,  0.03149704  0.11136921\n",
        "   0.1083742 ]\n",
        " [ 0.04119263  0.0719529   0.05611251 ...,  0.          0.0556846\n",
        "   0.24059491]\n",
        " ..., \n",
        " [ 0.          0.          0.         ...,  0.          0.          0.        ]\n",
        " [ 0.02378258  0.23100907  0.20844872 ...,  0.          0.          0.07663213]\n",
        " [ 0.02378258  0.          0.03548867 ...,  0.0944911   0.17163149\n",
        "   0.16888899]]\n"
       ]
      }
     ],
     "prompt_number": 1
    },
    {
     "cell_type": "heading",
     "level": 5,
     "metadata": {},
     "source": [
      "L'output de la funci\u00f3 (per posar un exemple, amb la imatge del primer script) ser\u00e1 un vector amb els punts d'interes de la imatge i els seus descriptors."
     ]
    },
    {
     "cell_type": "code",
     "collapsed": false,
     "input": [],
     "language": "python",
     "metadata": {},
     "outputs": []
    },
    {
     "cell_type": "heading",
     "level": 2,
     "metadata": {},
     "source": [
      "Train Codebook"
     ]
    },
    {
     "cell_type": "heading",
     "level": 5,
     "metadata": {},
     "source": [
      "La finalitat de la funci\u00f3 train_kmeans.py es basa en que un cop hem trobat els descriptors de les imatges, els dividirem en diferents regions i dintre d'aquestes regions trobarem el seu centroide. El codi que hem elaborat \u00e9s el seg\u00fcent:"
     ]
    },
    {
     "cell_type": "code",
     "collapsed": false,
     "input": [
      "\"\"\"\n",
      "import os\n",
      "import get_local_features as GET\n",
      "import train_codebook as TRA\n",
      "import matplotlib.pyplot as plt\n",
      "\n",
      "ruta = os.path.dirname(os.path.abspath(__file__)) #obtenim la ruta del l'arxiu\n",
      "\n",
      "#Entrenem el codebook i fem crides a get_local_features\n",
      "nfiles_t = os.listdir(ruta +\"/..\"+ '/TerrassaBuildings900/train/images') #llistem tots els arxius de la carpeta \"\"\"/TerrassaBuildings900/train/images\"\"\"\n",
      "descriptores_train = [] #inicialitzem el vector codebook\n",
      "for file in nfiles_t:\n",
      "    ds = GET.get_local_features('/TerrassaBuildings900/train/images/'+file) #obtenim els descriptors de cada imatge \"\"\"/TerrassaBuildings900/train/images/\"\"\"\n",
      "    for feat in ds:\n",
      "        descriptores_train.append(feat) #guardem tots els descriptors de totes les imatges\n",
      "centroides,_ = TRA.train_codebook(100,descriptores_train) #calculem els centroides de les imatges\n",
      "plt.scatter(descriptores_train[0],descriptores_train[1]),plt.scatter(centroides[:,0],centroides[:,1],color = 'r'),plt.show()\n",
      "\"\"\""
     ],
     "language": "python",
     "metadata": {},
     "outputs": []
    },
    {
     "cell_type": "heading",
     "level": 5,
     "metadata": {},
     "source": [
      "L'Output d'aquesta funci\u00f3 ser\u00e1 la mostra d'una gr\u00e0fica amb tots els descriptors de cadascuna de les imatges explorades amb el seus respectius centroides indicats de color vermell."
     ]
    },
    {
     "cell_type": "markdown",
     "metadata": {},
     "source": [
      "![plot train](https://drive.google.com/file/d/0B1rWCy9Dfr9Md0RoSG5QSVhYRkk/view)"
     ]
    },
    {
     "cell_type": "heading",
     "level": 2,
     "metadata": {},
     "source": [
      "Compute Assignments"
     ]
    },
    {
     "cell_type": "heading",
     "level": 5,
     "metadata": {},
     "source": [
      "En la funci\u00f3 compute_assignments.py el nostre objectiu consistia en retornar un vector on a cada posici\u00f3 hi hagu\u00e8s el n\u00famero de regi\u00f3 m\u00e9s propera a la qual estava situada un descriptor. El codi que hem elaborat \u00e9s el seg\u00fcent:"
     ]
    },
    {
     "cell_type": "code",
     "collapsed": false,
     "input": [
      "\"\"\"\n",
      "import compute_assignments as COMP\n",
      "\n",
      "assig_train = [] #Declarem el vector d'assignacions de train\n",
      "assig_train = COMP.compute_assignments(centroides,descriptores_train)\n",
      "nfiles_v = os.listdir(ruta +\"/..\"+ '/TerrassaBuildings900/val/images') #\"\"\"/TerrassaBuildings900/val/images\"\"\"\n",
      "descriptor_val = []\n",
      "for file in nfiles_v:\n",
      "    val = GET.get_local_features('/TerrassaBuildings900/val/images/'+file)\n",
      "    for feat in val:\n",
      "        descriptor_val.append(feat) #guardem tots els descriptors de totes les imatges\n",
      "assig_val = [] #Declarem el vector d'assignacions\n",
      "assig_val = COMP.compute_assignments(centroides,descriptor_val)\n",
      "\"\"\""
     ],
     "language": "python",
     "metadata": {},
     "outputs": []
    },
    {
     "cell_type": "heading",
     "level": 5,
     "metadata": {},
     "source": [
      "L'output de la funci\u00f3 ser\u00e1 la mostra per pantalla del vector entre claudators i amb n\u00fameros que van desde 1 fins a 13 separats per comes. "
     ]
    },
    {
     "cell_type": "code",
     "collapsed": false,
     "input": [
      "[72 52 80  3  3 19 23 88 97 77 42  4  3 25 73  4 80 79 59 42 13  4 52 97  8\n",
      "  3 50 65 47 23 25 65 67 52 50 94 47 86 29 67 13 20 52 42 29 44 94 67 44  5\n",
      " 18 56 51 50 47 69 72 17 82 93 34 72 92 17 50 83 94 97 26 88  3 94 96 69 86\n",
      " 30 56 56 13 44 26 17 48 20 93 93 42 48 81 14 85 93 34 67 86 23 52 48 80 83\n",
      " 51 48  6 17 88 79 79 18 80 29  1 74 50 94 30 17 52 42 50 67 18 77 72 51 50\n",
      " 75 25 29 51 30 88 26 93 69 16 13 59  3 72 52 31 82 97 72 42 50 26 18 92 80\n",
      " 79 13 14 67 94 69 16 50 14 42 50 58 45 85 38 42 29 42 47 94 50 83  3 25 34\n",
      " 38 73 17 65 51 29 94 79 13 93 65 82 13 52 47  3 70 11 11 13 94 25  3 26  8\n",
      "  5 14 23 97 17  3 82 72 93 70 47 16 44 52 50 29 58 56 77 88 88 17 29 17 72\n",
      " 80 23 93 13 94 83 50 75 18 17 34 56 18 59 95 18 38 50 77 25  4 79 92 17 88\n",
      "  3 25 93  3 82 56 47 18 29 59 13 18 83 17 42 14 14 69 31 37 38 17 25 88 83\n",
      " 26 31 81 97 41 93  5 23 97  3 79 25 56 79 20 30 75 72  3  3 72 42 81 52 47\n",
      " 72 42 52 50 29 69 13  6 96 82 72  4 42 29 97 94 30 37 86 80 83 97 13 97 30\n",
      " 13 52 72 87 67  3 70 31 59 82 23 42 13 56 38 58 87 93 70  3 29 17 65 88 17\n",
      " 94 30 23 44 81 13 97 13 47 85 67  3 69 23 13 18 42 50 97 26 79 42 75 75 70\n",
      " 56 34  3 79 23  3 80 52 52  3 50 70 37  3 75 92 83 85 52 82 19 37 42 18 13\n",
      " 97 47 44 93 23 69 65 97 26 67 19 87  4 47 67 51 23 93 16 97 18 97  3 47 13\n",
      " 58 44 19 50 17 26 82 18 81 58 13 69 13 14 50 76 65 47 31 97 67 83 69 96 67\n",
      " 26 56 79 56 25 14 47 34 18 29 87 17 17 65 17  6 42 37 77 23 88 25 81 67 75\n",
      " 75  3 87 86 38 56 50 38 47 50 67 38 69 94 50 59 93 79 72 38 75 26 80 31 42\n",
      " 56 93 38 50 56 29 25 88 93 16 77 52 17 83 86 23 69 50  6 77 13 92 37 17 23\n",
      " 75 38 51  4 18 29 26 13 87 86 85 70 47 72 94 56 30 81 97 18 80 92 86  5 72\n",
      " 25 72 87 25  4 79 47 75 93 94 47 85 13 38 52 42 34 42 65 87 52 50  3  3 97\n",
      " 23 97 47 13 56 80 86 23 29 86 16 18 67 52 88 56 67 17 81 86 23 85 50 31 82\n",
      " 37 67 47 30 69 58 58 42 11  8 97 97 79 42 58 69 19 97 47  3 13 52 79 86  3\n",
      " 69 85 70 18 85 97 58 93 65 50 73 42 75 47  3 81 70  3 86 39 97 73 34 94 82\n",
      " 37  3 82 31  3 93 29 34 47 97 52 42 75 47 97 75 85 13 88 42 67 52 17 56 59\n",
      " 94 50 93 50 20 13 85 47 94 50 23 51  3 77 44  3 59 97 34 50 82 13 50 17 94\n",
      " 56 77 79 50 52 30 23 82 44 93 52 67  3 56 50 65 14 56 51 29 80 19 67 94 20\n",
      " 79 69 56 29 69 58 38 17 52 25 42 83 58 47 52 25 85 34 26 67 50 29 72  6 34\n",
      " 67 74 25 97 17 92 13 29 19 85 47 52 13 50 77 69 86 97 75 69 81 42  1  1  1\n",
      "  1 74 19 19 13 47 72 87 29 85 77 19 50 23 59 83 65 74 52 65 47 17 65 82  4\n",
      " 56 56 17 65 50 97  3 82 67 93 31 23 14 25 34 97 13 56 48 34 48 85 25 92 29\n",
      " 16 50 52 50 97  3 70 72 59 97 13 83 70 47 18 47 34 29 19 92 93 69 34 13  4\n",
      " 80 52 79 97 13 18 83 97 97 13 88 18 67 47 37 25 38 50 72 65 47 72 25 85 85\n",
      " 44 23 42 31 80  3 16 94 42 34 13 56  4 82  4 79 56 42 47 29 50 94]\n",
      "...."
     ],
     "language": "python",
     "metadata": {},
     "outputs": []
    },
    {
     "cell_type": "heading",
     "level": 1,
     "metadata": {},
     "source": [
      "Construct BoW vector + Save Bow Descriptors"
     ]
    },
    {
     "cell_type": "heading",
     "level": 5,
     "metadata": {},
     "source": [
      "En la funci\u00f3 construct_BoW_vector.py es tracta de que aquesta reotrni un vector amb el n\u00famero de descriptors situats en cadascun dels vectors normalitzats entre els valors 0 i 1 per despr\u00e8s guardar el 100 primers en un diccionari on en cada fila estiguessin associats al identificador de imatge corresponent. El codi que hem elaborat \u00e9s el seg\u00fcent:"
     ]
    },
    {
     "cell_type": "code",
     "collapsed": false,
     "input": [
      "\"\"\"\n",
      "import construct_bow_vector as CONS\n",
      "import pickle\n",
      "\n",
      "#Constru\u00efm els vectors BoW\n",
      "BoW_train = CONS.construct_bow_vector(assig_train)\n",
      "BoW_val = CONS.construct_bow_vector(assig_val)\n",
      "\"\"\""
     ],
     "language": "python",
     "metadata": {},
     "outputs": []
    },
    {
     "cell_type": "heading",
     "level": 5,
     "metadata": {},
     "source": [
      "L'output de la funci\u00f3 ser\u00e1 el diccionari retornat amb el id de la imatge i el 100 primers descriptors normalitzats entre 0 i 1. S'ens crearan dos diccionaris: features_train.p i features_val .p"
     ]
    },
    {
     "cell_type": "heading",
     "level": 1,
     "metadata": {},
     "source": [
      "Ranking"
     ]
    },
    {
     "cell_type": "heading",
     "level": 5,
     "metadata": {},
     "source": [
      "Un cop tenim aquest diccionari amb el bag of words de cada imatge, juntament amb el fitxer de caracter\u00edstiques de les imatges d'entrenament i l'altre per les de validaci\u00f3, el nostre objectiu consisteix en que la funci\u00f3 ranking.py ens retorni una llista ordenada de fitxers de text pels conjunts d'entrenament, concretament una per cada imatge consultada.\n",
      "Per comprobar la semblan\u00e7a entre dues imatges utilitzem la distancia euclidiana [Quan m\u00e9s petit es el valor que surt, m\u00e9s s'assemblen, en cas contrari, m\u00e9s diferents s\u00f3n]. El codi que hem fet servir es el seg\u00fcent:"
     ]
    },
    {
     "cell_type": "code",
     "collapsed": false,
     "input": [
      "\"\"\"import os\n",
      "import ranking as RANK\n",
      "\n",
      "ruta = os.path.dirname(os.path.abspath(__file__)) #ruta absoluta del projecte\n",
      "rank(ruta+'/files',ruta+'/files',ruta+'/files/features_train.p',\"val\",ruta+'/TerrassaBuildings900') #crida a la funci\u00f3 rank pel diccionari de validaci\u00f3\n",
      "\"\"\""
     ],
     "language": "python",
     "metadata": {},
     "outputs": []
    },
    {
     "cell_type": "heading",
     "level": 5,
     "metadata": {},
     "source": [
      "L'output de la funci\u00f3 ser\u00e1 un conjunt de fitxers de text ordenats de menor a major valor de la dist\u00e0ncia euclidiana per cada imatge consultada."
     ]
    },
    {
     "cell_type": "code",
     "collapsed": false,
     "input": [
      "20481-4745-28695\n",
      "1272-22809-14687\n",
      "16978-5928-18066\n",
      "8658-23081-22141\n",
      "14496-8883-17763\n",
      "2839-6217-31568\n",
      "14583-22094-565\n",
      "1360-990-30109\n",
      "3131-10492-7947\n",
      "32519-18982-27827\n",
      "22892-22393-23158\n",
      "..."
     ],
     "language": "python",
     "metadata": {},
     "outputs": []
    }
   ],
   "metadata": {}
  }
 ]
}