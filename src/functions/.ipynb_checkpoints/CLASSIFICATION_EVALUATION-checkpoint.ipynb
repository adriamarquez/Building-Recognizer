{
 "metadata": {
  "name": "",
  "signature": "sha256:8d82f4dfcffacdc15553b591e8eb6ee342e3c7bceda56d140b2d29f0369066b2"
 },
 "nbformat": 3,
 "nbformat_minor": 0,
 "worksheets": []
}