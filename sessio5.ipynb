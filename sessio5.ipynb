{
 "metadata": {
  "name": "",
  "signature": "sha256:7ca9887579b2888c3302eb585cc63f3dd897d389fa5eef6c5bd7e6a93629d894"
 },
 "nbformat": 3,
 "nbformat_minor": 0,
 "worksheets": [
  {
   "cells": [
    {
     "cell_type": "heading",
     "level": 1,
     "metadata": {},
     "source": [
      "Sessi\u00f3 5"
     ]
    },
    {
     "cell_type": "heading",
     "level": 2,
     "metadata": {},
     "source": [
      "Profunditzaci\u00f3 en els blocs de 'Feature Extraction' i de 'Ranking'."
     ]
    },
    {
     "cell_type": "heading",
     "level": 5,
     "metadata": {},
     "source": [
      "Aquesta setmana hem programat aquestes dues parts de l'esquelet del nostre cercador i classificador d'imatges. El bloc de 'feature extraction' l'hem subidivit en 4 procediments: Get local features, train codebook, compute assignments i construct bow vector per tal d'obtenir un vector de les paraules o centroides d'una imatge normalitzades entre els valors de 0 i 1 anomenat Bag of Words (BoW)."
     ]
    },
    {
     "cell_type": "heading",
     "level": 5,
     "metadata": {},
     "source": [
      "Pel que fa al bloc de ranking nom\u00e8s calia modificarla en funci\u00f3 de la distancia euclidiana mitjan\u00e7ant el m\u00e8tode pdist del m\u00f2dul de scipy.spatial.disntance.dist per comprobar la desviaci\u00f3 que tenen els valors normalitzats respecte els valors de cada imatge consultada."
     ]
    },
    {
     "cell_type": "heading",
     "level": 2,
     "metadata": {},
     "source": [
      "Get local features"
     ]
    },
    {
     "cell_type": "heading",
     "level": 5,
     "metadata": {},
     "source": [
      "La finalitat de la funci\u00f3 get_local_features.py consisteix en extreure els punts d'inter\u00e8s d'una imatge consulta i els seus descriptors assignats. El codi que hem elaborat \u00e9s el seg\u00fcent:"
     ]
    },
    {
     "cell_type": "code",
     "collapsed": false,
     "input": [
      "# -*- coding: utf-8 -*-\n",
      "import cv2\n",
      "import os\n",
      "from scipy.cluster.vq import *\n",
      "import src.get_local_features as get_local_features\n",
      "ruta = os.path.dirname(os.path.abspath(__file__)) #obtenim la ruta absoluta de la carpeta del projecte\n",
      "\n",
      "des = get_local_features('/imagen_primerscript/tiger.jpg') #Per demostrar els resultats de la nostra funci\u00f3 utilitzem la imatge que vam utilitzar per primer script."
     ],
     "language": "python",
     "metadata": {},
     "outputs": [],
     "prompt_number": 1
    },
    {
     "cell_type": "heading",
     "level": 5,
     "metadata": {},
     "source": [
      "L'output de la funci\u00f3 (per posar un exemple, amb la imatge del primer script) ser\u00e1 un vector amb els punts d'interes de la imatge i els seus descriptors."
     ]
    },
    {
     "cell_type": "code",
     "collapsed": false,
     "input": [
      "[[ 1.10349166  1.73794985  2.66928387  0.68839216  0.36178732  0.\n",
      "   1.4359163   2.55582833  1.86805785  2.46815681  0.60882097  1.09767199\n",
      "   1.48076832  0.63861597  1.00225604  0.72315401  3.08831668  2.2070539\n",
      "   0.10503645  0.          0.          0.03030025  0.1754896   2.07796454\n",
      "   3.03645492  0.12853512  0.          0.          0.          0.          0.189298\n",
      "   1.0205822   1.21181512  0.28745869  0.15529449  0.09205746  0.08434691\n",
      "   0.42407888  2.66554666  2.51785588  0.68030185  0.06797847  0.02201426\n",
      "   0.02383819  0.3602061   2.90967894  2.86726546  2.49270773  4.28044558\n",
      "   0.8701905   0.02523579  0.          0.06199829  0.56287801  0.61675668\n",
      "   2.89471936  2.36999512  2.11867356  0.13147782  0.          0.          0.\n",
      "   0.03594426  0.5674758   1.31087136  1.96553409  2.28802156  0.98245627\n",
      "   1.23928857  0.61717743  1.77002609  2.61945486  0.22556144  0.31718072\n",
      "   2.11933446  1.66570449  3.88111782  1.75242758  0.48858052  0.15350138\n",
      "   2.8193531   2.988168    2.45820522  0.15507838  0.60606158  0.31618088\n",
      "   0.01910485  0.0916828   1.68535483  2.91829515  1.95878589  0.          0.\n",
      "   0.          0.          0.          0.95681393  2.60691667  2.53252101\n",
      "   2.28802156  0.          0.          0.11972828  0.07335512  0.02076961\n",
      "   0.63873178  2.53850174  2.57526755  1.26579177  0.58123821  0.09085655\n",
      "   0.06271349  0.42944875  2.66357875  2.58179379  1.77832079  0.36959815\n",
      "   0.54737234  1.55203307  1.35390484  2.866184    2.64553952  1.77229381\n",
      "   0.          0.          0.          1.23819041  2.89207554]\n",
      " [ 0.          1.65895212  2.14417887  2.93713975  2.89429855  1.56408298\n",
      "   1.0769372   0.          2.15994191  3.4424293   2.92813897  2.74417996\n",
      "   2.54692149  2.74604869  2.85257483  2.83235335  2.20594049  2.49493051\n",
      "   2.41583848  0.          0.          0.          0.1754896   2.48015118\n",
      "   0.84086442  2.00514793  0.31704292  0.          0.          0.          0.\n",
      "   0.          0.          2.25544524  2.6400063   2.66966629  1.2652036\n",
      "   0.42407888  0.04100841  0.          0.4081811   1.35956943  2.66372538\n",
      "   2.88442111  1.29073846  1.18205702  0.98471743  2.41481066  3.8942399\n",
      "   2.63232636  3.05353093  0.40172094  0.12399659  0.07035975  0.30837834\n",
      "   1.68858624  0.46952733  4.2020359   1.66538572  0.          0.          0.\n",
      "   0.          0.          0.02979253  0.52414244  1.96116138  2.59011197\n",
      "   1.85893285  0.0881682   0.          0.          0.36910054  0.87224698\n",
      "   2.73747349  2.43192863  2.52072597  1.25173402  1.30288148  1.95714259\n",
      "   3.48103809  1.25817597  1.18358028  0.11630878  0.10695204  0.24591847\n",
      "   0.66866988  2.21872377  2.85777569  0.965451    2.9744525   0.25848857\n",
      "   0.          0.          0.          0.04051207  0.18400268  0.03620718\n",
      "   0.14610697  1.96116138  2.06284237  2.67498231  1.79592431  0.22006534\n",
      "   0.99694115  0.10645529  0.05401067  0.          0.          2.90619087\n",
      "   0.90856552  1.34834003  1.93251944  0.13777131  0.          0.          0.\n",
      "   0.          0.28875035  2.82727194  0.63692975  0.15873237  0.75955451\n",
      "   0.163605    0.03105291  0.10439346  0.3301841   0.70937699]\n",
      " [ 0.47292501  0.51348519  0.21879376  1.10142744  0.9044683   0.\n",
      "   0.35897908  0.28398094  3.85286927  2.46815681  0.2609233   0.03658907\n",
      "   0.          0.          0.          1.32578242  2.22916079  1.00756812\n",
      "   1.78561974  2.60584927  0.74530691  0.03030025  0.          3.95483565\n",
      "   1.86858761  2.23651123  2.64202428  2.56864095  1.03199112  0.19177651\n",
      "   0.03154967  0.15200162  0.14256649  0.06633662  0.0310589   0.73645967\n",
      "   1.51824427  0.63611835  0.86117661  0.07572499  0.72565532  3.19498801\n",
      "   1.73912656  1.33493865  1.50085866  1.2426753   0.49235871  0.7789712\n",
      "   3.86205626  2.61057162  1.23655391  0.69772583  2.47993159  2.9551096\n",
      "   3.18657613  2.05042624  2.68301344  1.80087256  0.87651879  0.49599057\n",
      "   1.41565132  2.63289213  2.62393069  2.51817369  0.          0.          0.\n",
      "   0.          1.44583666  2.20420504  2.56021619  0.14032793  0.26657262\n",
      "   0.55506629  0.3532224   0.33314091  1.32038033  2.59450316  2.4429028\n",
      "   2.57114816  3.45226908  0.53921831  0.18208927  0.0193848   0.03565068\n",
      "   0.45670575  2.17795324  2.20038724  4.17674923  0.          0.          0.\n",
      "   0.          0.3254723   2.02264738  2.00534749  0.03680054  0.          0.\n",
      "   0.          2.57855296  1.15510595  2.99320698  0.36677557  0.56077939\n",
      "   0.95809764  0.          0.          0.          1.74371457  1.68084621\n",
      "   1.28562653  2.64826727  0.13777131  0.          0.          0.          0.\n",
      "   0.54140687  3.10601711  2.07002187  0.05291079  0.          0.          0.\n",
      "   0.          0.08254603  3.76515484]\n",
      " [ 0.          0.          0.21879376  1.88160527  1.08536196  2.38012624\n",
      "   2.87183261  0.          0.93402892  0.58456349  0.31890625  0.40247974\n",
      "   0.23692293  0.70247757  0.4625797   0.361577    0.92881703  0.28787661\n",
      "   0.2100729   0.08143279  0.          0.          0.64346188  4.82624006\n",
      "   0.65400571  0.05141405  0.07045399  0.          0.          0.\n",
      "   0.69409263  2.62745643  0.          0.          0.          0.18411492\n",
      "   2.69910097  2.81709552  0.24605046  0.          0.49888802  1.25760174\n",
      "   0.88057041  1.57332051  2.88164878  2.27318668  0.43443415  0.7789712\n",
      "   3.8942399   2.34951448  0.90848857  0.61315304  0.86797607  0.70359755\n",
      "   1.3363061   4.40238571  1.47565734  2.7542758   3.06781578  1.07029545\n",
      "   0.8389045   0.21063136  0.4313311   1.87976348  0.08937759  0.          0.\n",
      "   0.08931421  3.09822154  2.29237342  1.07465863  0.37420782  0.22556144\n",
      "   0.23788555  0.1766112   0.16657045  1.44041491  2.7538147   2.46326017\n",
      "   1.95714259  2.79058433  0.20220685  0.2731339   0.19384797  0.92691767\n",
      "   2.74023438  2.27347755  2.21872377  4.32330179  0.41689929  0.94311911\n",
      "   1.03395426  0.9796508   2.60377836  2.12051749  2.4104681   0.77281123\n",
      "   0.07241435  0.          0.32686022  0.51571059  0.          0.5986414\n",
      "   2.78749442  0.20769608  0.          0.          0.          0.\n",
      "   3.48742914  2.68026829  2.88482046  0.07157479  0.          0.          0.\n",
      "   0.          1.42316806  2.99578476  3.42458296  0.05307748  0.          0.\n",
      "   0.          0.03105291  2.60983634  2.80656505  2.2918334 ]\n",
      " [ 2.67990828  2.84391785  1.61907387  0.04589281  0.          0.          0.\n",
      "   0.          3.03559399  1.29902995  0.6378125   0.14635627  0.05923073\n",
      "   0.06386159  0.4625797   2.65156484  0.30186555  0.          0.\n",
      "   0.57002956  2.57990861  2.51492071  2.69084048  3.0164001   0.28028816\n",
      "   0.07712108  0.24658895  0.89603758  2.54962516  2.54103899  2.650172\n",
      "   1.84573388  2.56619668  2.03432298  0.65223688  0.          0.          0.\n",
      "   0.          0.          3.06135821  1.42754793  0.13208556  0.40524924\n",
      "   0.03001717  0.          0.02896228  3.27167892  1.51263869  0.21754763\n",
      "   0.8832528   2.85433316  2.10794187  1.33683538  1.43909895  1.86950624\n",
      "   0.15650912  1.30651546  2.01599312  2.68879104  2.67400813  0.47392055\n",
      "   0.14377703  0.14186895  2.53236508  2.35864091  0.32686022  0.          0.\n",
      "   0.0440841   0.          0.04677598  2.76825404  2.93392158  0.97136158\n",
      "   2.49855685  1.32038033  0.          0.          0.19187672  0.74799162\n",
      "   0.56168568  2.45820522  2.61694765  2.78075314  0.03513121  0.03820971\n",
      "   0.25671184  2.56467056  1.03127718  1.74114299  2.63658333  2.5579772\n",
      "   0.16273615  0.09787004  0.70896119  2.83364129  0.90517944  0.          0.\n",
      "   0.51571059  0.4863604   1.19728279  0.73355114  2.80389714  2.76783752\n",
      "   0.10802135  0.82408559  2.49541807  2.32495284  0.04542828  0.28221071\n",
      "   0.46523616  0.91847545  0.67618406  2.25709963  2.56665397  2.62738729\n",
      "   0.5775007   0.91587681  1.48616946  0.84657264  2.53184843  2.5358777\n",
      "   2.51528525  0.83514768  0.37145713  2.23726606]]\n"
     ],
     "language": "python",
     "metadata": {},
     "outputs": []
    },
    {
     "cell_type": "heading",
     "level": 2,
     "metadata": {},
     "source": [
      "Train Codebook"
     ]
    },
    {
     "cell_type": "heading",
     "level": 5,
     "metadata": {},
     "source": [
      "La finalitat de la funci\u00f3 train_kmeans.py es basa en que un cop hem trobat els descriptors de les imatges, els dividirem en diferents regions i dintre d'aquestes regions trobarem el seu centroide. El codi que hem elaborat \u00e9s el seg\u00fcent:"
     ]
    },
    {
     "cell_type": "code",
     "collapsed": false,
     "input": [
      "# -*- coding: utf-8 -*-\n",
      "from get_local_features import get_local_features\n",
      "import matplotlib.pyplot as plt\n",
      "import os\n",
      "from scipy.cluster.vq import kmeans,vq\n",
      "import numpy as np\n",
      "\n",
      "def train_codebook(nclusters,normalized_descriptors):\n",
      "    return kmeans(normalized_descriptors,nclusters) #obtenim els centroides de les imatges\n",
      "\"\"\"    \n",
      "des = get_local_features(\"/imagen_primerscript/tiger.jpg\")\n",
      "centroide,_ = train_codebook(2,des)\n",
      "plt.scatter(des[:,0],des[:,1]),plt.scatter(centroide[:,0],centroide[:,1], color ='r'),plt.show()\n",
      "\"\"\"\n",
      "ruta = os.path.dirname(os.path.abspath(__file__)) \n",
      "nfiles = os.listdir(ruta + \"/TerrassaBuildings900/train/images\")\n",
      "descriptors = []\n",
      "for file in nfiles:\n",
      "    ds = get_local_features(\"/TerrassaBuildings900/train/images/\"+file)\n",
      "    descriptors.append(ds)\n",
      "centroide,_ = train_codebook(13,descriptors)\n",
      "plt.scatter(descriptors[:,0],descriptors[:,1]),plt.scatter(centroide[:,0],centroide[:,1], color='r'), plt.show()"
     ],
     "language": "python",
     "metadata": {},
     "outputs": []
    },
    {
     "cell_type": "heading",
     "level": 5,
     "metadata": {},
     "source": [
      "L'Output d'aquesta funci\u00f3 ser\u00e1 la mostra d'una gr\u00e0fica amb tots els descriptors de cadascuna de les imatges explorades amb el seus respectius centroides indicats de color vermell."
     ]
    },
    {
     "cell_type": "code",
     "collapsed": false,
     "input": [
      "PONED AQU\u00cd LA IMAGEN o IM\u00c1GENES QUE SACAMOS EL VIERNES."
     ],
     "language": "python",
     "metadata": {},
     "outputs": []
    },
    {
     "cell_type": "heading",
     "level": 2,
     "metadata": {},
     "source": [
      "Compute Assignments"
     ]
    },
    {
     "cell_type": "heading",
     "level": 5,
     "metadata": {},
     "source": [
      "En la funci\u00f3 compute_assignments.py el nostre objectiu consistia en retornar un vector on a cada posici\u00f3 hi hagu\u00e8s el n\u00famero de regi\u00f3 m\u00e9s propera a la qual estava situada un descriptor. El codi que hem elaborat \u00e9s el seg\u00fcent:"
     ]
    },
    {
     "cell_type": "code",
     "collapsed": false,
     "input": [
      "COLOCAD AQU\u00cd EL C\u00d2DIGO DE LA FUNCI\u00d3N."
     ],
     "language": "python",
     "metadata": {},
     "outputs": []
    },
    {
     "cell_type": "heading",
     "level": 5,
     "metadata": {},
     "source": [
      "L'output de la funci\u00f3 ser\u00e1 la mostra per pantalla del vector entre claudators i amb n\u00fameros que van desde 1 fins a 13 separats per comes. "
     ]
    },
    {
     "cell_type": "code",
     "collapsed": false,
     "input": [
      "COLOCAD AQU\u00cd EL VECTOR QUE SE MUESTRA POR PANTALLA."
     ],
     "language": "python",
     "metadata": {},
     "outputs": []
    },
    {
     "cell_type": "heading",
     "level": 1,
     "metadata": {},
     "source": [
      "Construct BoW vector + Save Bow Descriptors"
     ]
    },
    {
     "cell_type": "heading",
     "level": 5,
     "metadata": {},
     "source": [
      "En la funci\u00f3 construct_BoW_vector.py es tracta de que aquesta reotrni un vector amb el n\u00famero de descriptors situats en cadascun dels vectors normalitzats entre els valors 0 i 1 per despr\u00e8s guardar el 100 primers en un diccionari on en cada fila estiguessin associats al identificador de imatge corresponent. El codi que hem elaborat \u00e9s el seg\u00fcent:"
     ]
    },
    {
     "cell_type": "code",
     "collapsed": false,
     "input": [
      "COLOCAD AQU\u00cd EL C\u00d2DIGO DE LA FUNCI\u00d3N."
     ],
     "language": "python",
     "metadata": {},
     "outputs": []
    },
    {
     "cell_type": "heading",
     "level": 5,
     "metadata": {},
     "source": [
      "L'output de la funci\u00f3 ser\u00e1 el diccionari retornat amb el id de la imatge i el 100 primers descriptors normalitzats entre 0 i 1."
     ]
    },
    {
     "cell_type": "code",
     "collapsed": false,
     "input": [
      "COLOCAD AQU\u00cd EL DICCIONARIO RESULTANTE."
     ],
     "language": "python",
     "metadata": {},
     "outputs": []
    },
    {
     "cell_type": "heading",
     "level": 1,
     "metadata": {},
     "source": [
      "Ranking"
     ]
    },
    {
     "cell_type": "heading",
     "level": 5,
     "metadata": {},
     "source": [
      "Un cop tenim aquest diccionari amb el bag of words de cada imatge, juntament amb el fitxer de caracter\u00edstiques de les imatges d'entrenament i l'altre per les de validaci\u00f3, el nostre objectiu consisteix en que la funci\u00f3 ranking.py ens retorni una llista ordenada de fitxers de text pels conjunts d'entrenament, concretament una per cada imatge consultada.\n",
      "Per comprobar la semblan\u00e7a entre dues imatges utilitzem la distancia euclidiana [Quan m\u00e9s petit es el valor que surt, m\u00e9s s'assemblen, en cas contrari, m\u00e9s diferents s\u00f3n]. El codi que hem fet servir es el seg\u00fcent:"
     ]
    },
    {
     "cell_type": "code",
     "collapsed": false,
     "input": [
      "PONED AQU\u00cd EL C\u00d2DIGO DE LA FUNCI\u00d3N."
     ],
     "language": "python",
     "metadata": {},
     "outputs": []
    },
    {
     "cell_type": "heading",
     "level": 5,
     "metadata": {},
     "source": [
      "L'output de la funci\u00f3 ser\u00e1 un conjunt de fitxers de text ordenats de menor a major valor de la dist\u00e0ncia euclidiana per cada imatge consultada."
     ]
    },
    {
     "cell_type": "code",
     "collapsed": false,
     "input": [
      "COLOCAD AQU\u00cd UN TROCITO DE LA RESPUESTA."
     ],
     "language": "python",
     "metadata": {},
     "outputs": []
    },
    {
     "cell_type": "heading",
     "level": 2,
     "metadata": {},
     "source": [
      "Comentaris respecte als resultats obtinguts"
     ]
    },
    {
     "cell_type": "heading",
     "level": 5,
     "metadata": {},
     "source": [
      "FRANC, PON AQU\u00cd LA RESPUESTA QUE TU VEAS MIENTRAS SEAS COHERENTE."
     ]
    }
   ],
   "metadata": {}
  }
 ]
}