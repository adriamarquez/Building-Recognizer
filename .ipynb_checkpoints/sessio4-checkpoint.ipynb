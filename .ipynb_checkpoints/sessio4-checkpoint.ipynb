{
 "metadata": {
  "name": "",
  "signature": "sha256:8a81edf267f3e6f669502fad8ee5d274e6147e35e35888351cd3c763d43a8f2c"
 },
 "nbformat": 3,
 "nbformat_minor": 0,
 "worksheets": []
}