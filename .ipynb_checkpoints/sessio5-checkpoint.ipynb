{
 "metadata": {
  "name": "",
  "signature": "sha256:f28e6a62886fd59671dacacdaf5d8631968f23a2b7957b6113825b9a3d9ebb72"
 },
 "nbformat": 3,
 "nbformat_minor": 0,
 "worksheets": [
  {
   "cells": [
    {
     "cell_type": "heading",
     "level": 1,
     "metadata": {},
     "source": [
      "Sessi\u00f3 5"
     ]
    },
    {
     "cell_type": "heading",
     "level": 2,
     "metadata": {},
     "source": [
      "Profunditzaci\u00f3 en els blocs de 'Feature Extraction' i de 'Ranking'."
     ]
    },
    {
     "cell_type": "heading",
     "level": 5,
     "metadata": {},
     "source": [
      "Aquesta setmana hem programat aquestes dues parts de l'esquelet del nostre cercador i classificador d'imatges. El bloc de 'feature extraction' l'hem subidivit en 4 procediments: Get local features, train codebook, compute assignments i construct bow vector per tal d'obtenir un vector de les paraules o centroides d'una imatge normalitzades entre els valors de 0 i 1 anomenat Bag of Words (BoW)."
     ]
    },
    {
     "cell_type": "heading",
     "level": 5,
     "metadata": {},
     "source": [
      "Pel que fa al bloc de ranking nom\u00e8s calia modificarla en funci\u00f3 de la distancia euclidiana mitjan\u00e7ant el m\u00e8tode pdist del m\u00f2dul de scipy.spatial.disntance.dist per comprobar la desviaci\u00f3 que tenen els valors normalitzats respecte els valors de cada descriptor."
     ]
    },
    {
     "cell_type": "heading",
     "level": 2,
     "metadata": {},
     "source": [
      "Get local features"
     ]
    },
    {
     "cell_type": "heading",
     "level": 5,
     "metadata": {},
     "source": [
      "La finalitat de la funci\u00f3 get_local_features.py consisteix en extreure els punts d'inter\u00e8s d'una imatge consulta i els seus descriptors assignats. El codi que hem elaborat \u00e9s el seg\u00fcent:"
     ]
    },
    {
     "cell_type": "code",
     "collapsed": false,
     "input": [
      "# -*- coding: utf-8 -*-\n",
      "import cv2\n",
      "import os\n",
      "from scipy.cluster.vq import *\n",
      "ruta = os.path.dirname(os.path.abspath(__file__)) #obtenim la ruta absoluta de la carpeta del projecte\n",
      "\n",
      "def get_local_features(query):\n",
      "    img = cv2.imread(ruta+query,1) #obrim la imatge que hi es a la carpeta images\n",
      "    r = 128.0 / img.shape[1]\n",
      "    dim = (128, int(img.shape[0] * r)) # Tama\u00f1o de 128 orientativo, probar mas adelante con diferentes tama\u00f1os\n",
      "    resized = cv2.resize(img, dim, interpolation = cv2.INTER_AREA) #redimensiono la imatge per interpolacio fent-la de tamany 500 mes o menys\n",
      "    sift = cv2.SIFT() # inicialitzo SIFT \n",
      "    kp,des = sift.detectAndCompute(resized,None) # obtinc els key points amb els seus descriptors\n",
      "    #cambiar resized por image cuando queramos hacerl ocon las imagenes completas\n",
      "    \"\"\" print len(kp) #mostra el nom de punts d'inter\u00e9s que hi han a la imatge\n",
      "    print (len(des[4])) #mostra num de descriptors del kp 4\n",
      "    for k in range(1, len(kp)): # mostro tots els key points amb els seus descriptors corresponents\n",
      "        print kp[k] \n",
      "        print des[k]\"\"\"\n",
      "    return whiten(des, check_finite = True)#Si no se deben retornar normalizados cambiamos a return des\n",
      "des=get_local_features('/imagen_primerscript/tiger.jpg') #tendremos que cambiar la foto"
     ],
     "language": "python",
     "metadata": {},
     "outputs": [],
     "prompt_number": 1
    },
    {
     "cell_type": "heading",
     "level": 5,
     "metadata": {},
     "source": [
      "L'output de la funci\u00f3 ser\u00e1 un vector amb els punts d'interes de la imatge i els seus descriptors."
     ]
    },
    {
     "cell_type": "code",
     "collapsed": false,
     "input": [
      "COPIAD AQU\u00cd DIRECTAMENTE UN TROCITO DE LA RESPUESTA."
     ],
     "language": "python",
     "metadata": {},
     "outputs": []
    },
    {
     "cell_type": "heading",
     "level": 2,
     "metadata": {},
     "source": [
      "Train Codebook"
     ]
    },
    {
     "cell_type": "heading",
     "level": 5,
     "metadata": {},
     "source": [
      "La finalitat de la funci\u00f3 train_kmeans.py es basa en que un cop hem trobat els descriptors de les imatges, els dividirem en diferents regions i dintre d'aquestes regions trobarem el seu centroide. El codi que hem elaborat \u00e9s el seg\u00fcent:"
     ]
    },
    {
     "cell_type": "code",
     "collapsed": false,
     "input": [
      "# -*- coding: utf-8 -*-\n",
      "from get_local_features import get_local_features\n",
      "import matplotlib.pyplot as plt\n",
      "import os\n",
      "from scipy.cluster.vq import kmeans,vq\n",
      "import numpy as np\n",
      "\n",
      "def train_codebook(nclusters,normalized_descriptors):\n",
      "    return kmeans(normalized_descriptors,nclusters) #obtenim els centroides de les imatges\n",
      "\"\"\"    \n",
      "des = get_local_features(\"/imagen_primerscript/tiger.jpg\")\n",
      "centroide,_ = train_codebook(2,des)\n",
      "plt.scatter(des[:,0],des[:,1]),plt.scatter(centroide[:,0],centroide[:,1], color ='r'),plt.show()\n",
      "\"\"\"\n",
      "ruta = os.path.dirname(os.path.abspath(__file__)) \n",
      "nfiles = os.listdir(ruta + \"/TerrassaBuildings900/train/images\")\n",
      "descriptors = []\n",
      "for file in nfiles:\n",
      "    ds = get_local_features(\"/TerrassaBuildings900/train/images/\"+file)\n",
      "    descriptors.append(ds)\n",
      "centroide,_ = train_codebook(13,descriptors)\n",
      "plt.scatter(descriptors[:,0],descriptors[:,1]),plt.scatter(centroide[:,0],centroide[:,1], color='r'), plt.show()"
     ],
     "language": "python",
     "metadata": {},
     "outputs": []
    },
    {
     "cell_type": "heading",
     "level": 5,
     "metadata": {},
     "source": [
      "L'Output d'aquesta funci\u00f3 ser\u00e1 la mostra d'una gr\u00e0fica amb tots els descriptors de cadascuna de les imatges explorades amb el seus respectius centroides indicats de color vermell."
     ]
    },
    {
     "cell_type": "code",
     "collapsed": false,
     "input": [
      "PONED AQU\u00cd LA IMAGEN o IM\u00c1GENES QUE SACAMOS EL VIERNES."
     ],
     "language": "python",
     "metadata": {},
     "outputs": []
    },
    {
     "cell_type": "heading",
     "level": 2,
     "metadata": {},
     "source": [
      "Compute Assignments"
     ]
    },
    {
     "cell_type": "heading",
     "level": 5,
     "metadata": {},
     "source": [
      "En la funci\u00f3 compute_assignments.py el nostre objectiu consistia en retornar un vector on a cada posici\u00f3 hi hagu\u00e8s el n\u00famero de regi\u00f3 m\u00e9s propera a la qual estava situada un descriptor. El codi que hem elaborat \u00e9s el seg\u00fcent:"
     ]
    },
    {
     "cell_type": "code",
     "collapsed": false,
     "input": [
      "COLOCAD AQU\u00cd EL C\u00d2DIGO DE LA FUNCI\u00d3N."
     ],
     "language": "python",
     "metadata": {},
     "outputs": []
    },
    {
     "cell_type": "heading",
     "level": 5,
     "metadata": {},
     "source": [
      "L'output de la funci\u00f3 ser\u00e1 la mostra per pantalla del vector entre claudators i amb n\u00fameros que van desde 1 fins a 13 separats per comes. "
     ]
    },
    {
     "cell_type": "code",
     "collapsed": false,
     "input": [
      "COLOCAD AQU\u00cd EL VECTOR QUE SE MUESTRA POR PANTALLA."
     ],
     "language": "python",
     "metadata": {},
     "outputs": []
    },
    {
     "cell_type": "heading",
     "level": 1,
     "metadata": {},
     "source": [
      "Construct BoW vector + Save Bow Descriptors"
     ]
    },
    {
     "cell_type": "heading",
     "level": 5,
     "metadata": {},
     "source": [
      "En la funci\u00f3 construct_BoW_vector.py es tracta de que aquesta reotrni un vector amb el n\u00famero de descriptors situats en cadascun dels vectors normalitzats entre els valors 0 i 1 per despr\u00e8s guardar el 100 primers en un diccionari on en cada fila estiguessin associats al identificador de imatge corresponent. El codi que hem elaborat \u00e9s el seg\u00fcent:"
     ]
    },
    {
     "cell_type": "code",
     "collapsed": false,
     "input": [
      "COLOCAD AQU\u00cd EL C\u00d2DIGO DE LA FUNCI\u00d3N."
     ],
     "language": "python",
     "metadata": {},
     "outputs": []
    },
    {
     "cell_type": "heading",
     "level": 5,
     "metadata": {},
     "source": [
      "L'output de la funci\u00f3 ser\u00e1 el diccionari retornat amb el id de la imatge i el 100 primers descriptors normalitzats entre 0 i 1."
     ]
    },
    {
     "cell_type": "code",
     "collapsed": false,
     "input": [
      "COLOCAD AQU\u00cd EL DICCIONARIO RESULTANTE."
     ],
     "language": "python",
     "metadata": {},
     "outputs": []
    },
    {
     "cell_type": "code",
     "collapsed": false,
     "input": [],
     "language": "python",
     "metadata": {},
     "outputs": []
    },
    {
     "cell_type": "heading",
     "level": 1,
     "metadata": {},
     "source": []
    },
    {
     "cell_type": "code",
     "collapsed": false,
     "input": [],
     "language": "python",
     "metadata": {},
     "outputs": []
    },
    {
     "cell_type": "code",
     "collapsed": false,
     "input": [],
     "language": "python",
     "metadata": {},
     "outputs": []
    }
   ],
   "metadata": {}
  }
 ]
}